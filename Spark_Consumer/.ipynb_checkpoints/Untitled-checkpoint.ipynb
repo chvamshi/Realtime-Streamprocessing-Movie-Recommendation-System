{
 "cells": [
  {
   "cell_type": "code",
   "execution_count": null,
   "id": "94628a75",
   "metadata": {},
   "outputs": [],
   "source": [
    "import pandas as pd\n",
    "from sklearn.feature_extraction.text import TfidfVectorizer\n",
    "from sklearn.metrics.pairwise import linear_kernel"
   ]
  },
  {
   "cell_type": "code",
   "execution_count": null,
   "id": "14432d90",
   "metadata": {},
   "outputs": [],
   "source": [
    "df = pd.read_csv('movies.csv')\n",
    "\n",
    "genre_labels = set()\n",
    "for s in df['genres'].str.split('|').values:\n",
    "    genre_labels = genre_labels.union(set(s))\n",
    " \n",
    "\n",
    "def count_word(dataset, ref_col, census):\n",
    "    keyword_count = dict()\n",
    "    for s in census: \n",
    "        keyword_count[s] = 0\n",
    "    for census_keywords in dataset[ref_col].str.split('|'):        \n",
    "        if type(census_keywords) == float and pd.isnull(census_keywords): \n",
    "            continue        \n",
    "        for s in [s for s in census_keywords if s in census]: \n",
    "            if pd.notnull(s): \n",
    "                keyword_count[s] += 1\n",
    "    #______________________________________________________________________\n",
    "    # convert the dictionary in a list to sort the keywords by frequency\n",
    "    keyword_occurences = []\n",
    "    for k,v in keyword_count.items():\n",
    "        keyword_occurences.append([k,v])\n",
    "    keyword_occurences.sort(key = lambda x:x[1], reverse = True)\n",
    "    return keyword_occurences, keyword_count\n",
    "\n",
    "keyword_occurences, dum = count_word(df, 'genres', genre_labels)\n",
    "\n",
    "# Break up the big genre string into a string array\n",
    "df['genres'] = df['genres'].str.split('|')\n",
    "# Convert genres to string value\n",
    "df['genres'] = df['genres'].fillna(\"\").astype('str')\n",
    "\n",
    "tf = TfidfVectorizer(analyzer='word',ngram_range=(1, 2),min_df=0, stop_words='english')\n",
    "tfidf_matrix = tf.fit_transform(df['genres'])\n",
    "\n",
    "cosine_sim = linear_kernel(tfidf_matrix, tfidf_matrix)\n",
    "\n",
    "#-----------Mapping of Movie title and INdex-----\n",
    "titles = df['title']\n",
    "indices = pd.Series(df.index, index=df['title'])"
   ]
  },
  {
   "cell_type": "code",
   "execution_count": null,
   "id": "47081e85",
   "metadata": {},
   "outputs": [],
   "source": [
    "len(tf.idf_)"
   ]
  },
  {
   "cell_type": "code",
   "execution_count": null,
   "id": "c14986f8",
   "metadata": {},
   "outputs": [],
   "source": [
    "tf.vocabulary_"
   ]
  },
  {
   "cell_type": "code",
   "execution_count": null,
   "id": "e34081ae",
   "metadata": {},
   "outputs": [],
   "source": [
    "df['genres']"
   ]
  },
  {
   "cell_type": "markdown",
   "id": "755d468e",
   "metadata": {},
   "source": [
    "vectorizer.idf_"
   ]
  },
  {
   "cell_type": "code",
   "execution_count": null,
   "id": "57afc8d8",
   "metadata": {},
   "outputs": [],
   "source": [
    "x = tf.transform([df['genres'][0]])"
   ]
  },
  {
   "cell_type": "code",
   "execution_count": null,
   "id": "e7fffc83",
   "metadata": {},
   "outputs": [],
   "source": [
    "x.toarray()"
   ]
  },
  {
   "cell_type": "code",
   "execution_count": null,
   "id": "624a76f5",
   "metadata": {},
   "outputs": [],
   "source": [
    "tf.get_feature_names()"
   ]
  },
  {
   "cell_type": "code",
   "execution_count": null,
   "id": "e62e2219",
   "metadata": {},
   "outputs": [],
   "source": [
    "def genre_recommendations(title):\n",
    "    idx = indices[title]\n",
    "    sim_scores = list(enumerate(cosine_sim[idx]))\n",
    "    print(sim_scores)\n",
    "    print('***********************')\n",
    "    sim_scores = sorted(sim_scores, key=lambda x: x[1], reverse=True)\n",
    "    print(sim_scores)\n",
    "     print('***********************')\n",
    "    sim_scores = sim_scores[1:21]\n",
    "    print(sim_scores)\n",
    "    print('*********')\n",
    "    movie_indices = [i[0] for i in sim_scores]\n",
    "    return titles.iloc[movie_indices]"
   ]
  },
  {
   "cell_type": "code",
   "execution_count": null,
   "id": "5465ad91",
   "metadata": {},
   "outputs": [],
   "source": [
    "titles = df['title']\n",
    "indices = pd.Series(df.index, index=df['title'])"
   ]
  },
  {
   "cell_type": "code",
   "execution_count": null,
   "id": "e6bed42c",
   "metadata": {},
   "outputs": [],
   "source": [
    "indices"
   ]
  },
  {
   "cell_type": "code",
   "execution_count": null,
   "id": "dd3c61c4",
   "metadata": {},
   "outputs": [],
   "source": [
    "print(tfidf_matrix)"
   ]
  },
  {
   "cell_type": "code",
   "execution_count": null,
   "id": "583fc990",
   "metadata": {},
   "outputs": [],
   "source": [
    "cosine_sim.shape"
   ]
  },
  {
   "cell_type": "code",
   "execution_count": null,
   "id": "e5261cad",
   "metadata": {},
   "outputs": [],
   "source": [
    "genre_recommendations('Toy Story (1995)')"
   ]
  },
  {
   "cell_type": "code",
   "execution_count": null,
   "id": "bd7a5c71",
   "metadata": {},
   "outputs": [],
   "source": []
  }
 ],
 "metadata": {
  "kernelspec": {
   "display_name": "Python 3",
   "language": "python",
   "name": "python3"
  },
  "language_info": {
   "codemirror_mode": {
    "name": "ipython",
    "version": 3
   },
   "file_extension": ".py",
   "mimetype": "text/x-python",
   "name": "python",
   "nbconvert_exporter": "python",
   "pygments_lexer": "ipython3",
   "version": "3.8.5"
  }
 },
 "nbformat": 4,
 "nbformat_minor": 5
}

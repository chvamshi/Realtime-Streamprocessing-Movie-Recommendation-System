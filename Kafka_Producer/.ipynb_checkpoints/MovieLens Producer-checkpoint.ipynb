{
 "cells": [
  {
   "cell_type": "code",
   "execution_count": 6,
   "metadata": {},
   "outputs": [],
   "source": [
    "from kafka import KafkaConsumer, KafkaProducer\n",
    "import time\n",
    "import pandas as pd\n",
    "from json import dumps"
   ]
  },
  {
   "cell_type": "code",
   "execution_count": 7,
   "metadata": {},
   "outputs": [],
   "source": [
    "from kafka import KafkaConsumer, KafkaProducer\n",
    "movie_csv = pd.read_csv('streaming_data.csv')\n",
    "movie_csv = movie_csv[['movieId','title','genres','userId','rating']]\n",
    "movie_json_convert = movie_csv.to_json(\"movies.json\")\n",
    "            "
   ]
  },
  {
   "cell_type": "code",
   "execution_count": 8,
   "metadata": {},
   "outputs": [],
   "source": [
    "KAFKA_TOPIC_NAME_1 = \"user_based_collaborative_filtering\"\n",
    "KAFKA_TOPIC_NAME_2 = \"content_based_filtering\"\n",
    "KAFKA_BOOTSTRAP_SERVER_CONN = \"localhost:9092\"\n",
    "\n",
    "kafka_producer_object = KafkaProducer(bootstrap_servers=KAFKA_BOOTSTRAP_SERVER_CONN,\n",
    "              value_serializer=lambda x: dumps(x).encode('utf-8'))"
   ]
  },
  {
   "cell_type": "code",
   "execution_count": 9,
   "metadata": {},
   "outputs": [],
   "source": [
    "movies_json = pd.read_json(\"movies.json\")\n",
    "movie_list= movies_json.to_dict(orient=\"records\")\n"
   ]
  },
  {
   "cell_type": "code",
   "execution_count": 10,
   "metadata": {},
   "outputs": [
    {
     "name": "stdout",
     "output_type": "stream",
     "text": [
      "Message to be send :  {'movieId': 6888, 'title': 'Scary Movie 3 (2003)', 'genres': 'Comedy Horror', 'userId': 232, 'rating': 3.0}\n",
      "Message to be send :  {'movieId': 95508, 'title': 'Cleanskin (2012)', 'genres': 'Crime Drama Thriller', 'userId': 448, 'rating': 3.5}\n",
      "Message to be send :  {'movieId': 5418, 'title': 'Bourne Identity, The (2002)', 'genres': 'Action Mystery Thriller', 'userId': 325, 'rating': 4.0}\n",
      "Message to be send :  {'movieId': 2164, 'title': 'Surf Nazis Must Die (1987)', 'genres': 'Action Comedy Drama Horror', 'userId': 50, 'rating': 1.0}\n"
     ]
    },
    {
     "ename": "KeyboardInterrupt",
     "evalue": "",
     "output_type": "error",
     "traceback": [
      "\u001b[0;31m---------------------------------------------------------------------------\u001b[0m",
      "\u001b[0;31mKeyboardInterrupt\u001b[0m                         Traceback (most recent call last)",
      "\u001b[0;32m<ipython-input-10-b4073e0751d4>\u001b[0m in \u001b[0;36m<module>\u001b[0;34m\u001b[0m\n\u001b[1;32m      2\u001b[0m     \u001b[0mprint\u001b[0m\u001b[0;34m(\u001b[0m\u001b[0;34m\"Message to be send : \"\u001b[0m\u001b[0;34m,\u001b[0m \u001b[0mmovie\u001b[0m\u001b[0;34m)\u001b[0m\u001b[0;34m\u001b[0m\u001b[0;34m\u001b[0m\u001b[0m\n\u001b[1;32m      3\u001b[0m     \u001b[0mkafka_producer_object\u001b[0m\u001b[0;34m.\u001b[0m\u001b[0msend\u001b[0m\u001b[0;34m(\u001b[0m\u001b[0mKAFKA_TOPIC_NAME\u001b[0m\u001b[0;34m,\u001b[0m\u001b[0mvalue\u001b[0m\u001b[0;34m=\u001b[0m\u001b[0mmovie\u001b[0m\u001b[0;34m)\u001b[0m\u001b[0;34m\u001b[0m\u001b[0;34m\u001b[0m\u001b[0m\n\u001b[0;32m----> 4\u001b[0;31m     \u001b[0mtime\u001b[0m\u001b[0;34m.\u001b[0m\u001b[0msleep\u001b[0m\u001b[0;34m(\u001b[0m\u001b[0;36m10\u001b[0m\u001b[0;34m)\u001b[0m\u001b[0;34m\u001b[0m\u001b[0;34m\u001b[0m\u001b[0m\n\u001b[0m",
      "\u001b[0;31mKeyboardInterrupt\u001b[0m: "
     ]
    }
   ],
   "source": [
    "for movie in movie_list:\n",
    "    print(\"Message to be send : \", movie)\n",
    "    kafka_producer_object.send(KAFKA_TOPIC_NAME_1,value=movie)\n",
    "    kafka_producer_object.send(KAFKA_TOPIC_NAME_2,value=movie)\n",
    "    time.sleep(10)"
   ]
  },
  {
   "cell_type": "code",
   "execution_count": null,
   "metadata": {},
   "outputs": [],
   "source": []
  }
 ],
 "metadata": {
  "kernelspec": {
   "display_name": "Python 3",
   "language": "python",
   "name": "python3"
  },
  "language_info": {
   "codemirror_mode": {
    "name": "ipython",
    "version": 3
   },
   "file_extension": ".py",
   "mimetype": "text/x-python",
   "name": "python",
   "nbconvert_exporter": "python",
   "pygments_lexer": "ipython3",
   "version": "3.8.5"
  }
 },
 "nbformat": 4,
 "nbformat_minor": 4
}

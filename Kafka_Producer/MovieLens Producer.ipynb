{
 "cells": [
  {
   "cell_type": "code",
   "execution_count": 1,
   "metadata": {},
   "outputs": [],
   "source": [
    "from kafka import KafkaConsumer, KafkaProducer\n",
    "import time\n",
    "import pandas as pd\n",
    "from json import dumps"
   ]
  },
  {
   "cell_type": "code",
   "execution_count": 2,
   "metadata": {},
   "outputs": [],
   "source": [
    "from kafka import KafkaConsumer, KafkaProducer\n",
    "movie_csv = pd.read_csv('streaming_data.csv')\n",
    "movie_csv = movie_csv[['movieId','title','genres','userId','rating']]\n",
    "movie_json_convert = movie_csv.to_json(\"movies.json\")\n",
    "            "
   ]
  },
  {
   "cell_type": "code",
   "execution_count": 3,
   "metadata": {},
   "outputs": [],
   "source": [
    "KAFKA_TOPIC_NAME_1 = \"user_based_collaborative_filtering\"\n",
    "KAFKA_TOPIC_NAME_2 = \"content_based_filtering\"\n",
    "KAFKA_BOOTSTRAP_SERVER_CONN = \"localhost:9092\"\n",
    "\n",
    "kafka_producer_object = KafkaProducer(bootstrap_servers=KAFKA_BOOTSTRAP_SERVER_CONN,\n",
    "              value_serializer=lambda x: dumps(x).encode('utf-8'))"
   ]
  },
  {
   "cell_type": "code",
   "execution_count": 4,
   "metadata": {},
   "outputs": [],
   "source": [
    "movies_json = pd.read_json(\"movies.json\")\n",
    "movie_list= movies_json.to_dict(orient=\"records\")\n"
   ]
  },
  {
   "cell_type": "code",
   "execution_count": 6,
   "metadata": {},
   "outputs": [
    {
     "name": "stdout",
     "output_type": "stream",
     "text": [
      "Message to be send :  {'movieId': 495, 'title': 'In the Realm of the Senses (Ai no corrida) (1976)', 'genres': 'Drama', 'userId': 603, 'rating': 5.0}\n",
      "Message to be send :  {'movieId': 8529, 'title': 'Terminal, The (2004)', 'genres': 'Comedy Drama Romance', 'userId': 438, 'rating': 2.0}\n",
      "Message to be send :  {'movieId': 2657, 'title': 'Rocky Horror Picture Show, The (1975)', 'genres': 'Comedy Horror Musical Sci-Fi', 'userId': 20, 'rating': 5.0}\n",
      "Message to be send :  {'movieId': 48780, 'title': 'Prestige, The (2006)', 'genres': 'Drama Mystery Sci-Fi Thriller', 'userId': 105, 'rating': 5.0}\n",
      "Message to be send :  {'movieId': 122912, 'title': 'Avengers: Infinity War - Part I (2018)', 'genres': 'Action Adventure Sci-Fi', 'userId': 305, 'rating': 4.5}\n",
      "Message to be send :  {'movieId': 1197, 'title': 'Princess Bride, The (1987)', 'genres': 'Action Adventure Comedy Fantasy Romance', 'userId': 437, 'rating': 4.0}\n",
      "Message to be send :  {'movieId': 318, 'title': 'Shawshank Redemption, The (1994)', 'genres': 'Crime Drama', 'userId': 84, 'rating': 5.0}\n",
      "Message to be send :  {'movieId': 60684, 'title': 'Watchmen (2009)', 'genres': 'Action Drama Mystery Sci-Fi Thriller IMAX', 'userId': 432, 'rating': 4.0}\n",
      "Message to be send :  {'movieId': 7, 'title': 'Sabrina (1995)', 'genres': 'Comedy Romance', 'userId': 169, 'rating': 4.5}\n",
      "Message to be send :  {'movieId': 5069, 'title': 'Escaflowne: The Movie (Escaflowne) (2000)', 'genres': 'Action Adventure Animation Drama Fantasy', 'userId': 477, 'rating': 4.0}\n",
      "Message to be send :  {'movieId': 86290, 'title': 'American: The Bill Hicks Story (2009)', 'genres': 'Comedy Documentary', 'userId': 377, 'rating': 3.0}\n",
      "Message to be send :  {'movieId': 3556, 'title': 'Virgin Suicides, The (1999)', 'genres': 'Drama Romance', 'userId': 177, 'rating': 4.0}\n",
      "Message to be send :  {'movieId': 26778, 'title': 'Ladybugs (1992)', 'genres': 'Comedy', 'userId': 599, 'rating': 2.0}\n",
      "Message to be send :  {'movieId': 17, 'title': 'Sense and Sensibility (1995)', 'genres': 'Drama Romance', 'userId': 206, 'rating': 5.0}\n",
      "Message to be send :  {'movieId': 158, 'title': 'Casper (1995)', 'genres': 'Adventure Children', 'userId': 534, 'rating': 4.0}\n",
      "Message to be send :  {'movieId': 5103, 'title': 'Sandlot, The (1993)', 'genres': 'Children Comedy Drama', 'userId': 20, 'rating': 4.0}\n",
      "Message to be send :  {'movieId': 121231, 'title': 'It Follows (2014)', 'genres': 'Horror', 'userId': 306, 'rating': 3.0}\n",
      "Message to be send :  {'movieId': 7137, 'title': 'Cooler, The (2003)', 'genres': 'Comedy Drama Romance', 'userId': 599, 'rating': 2.5}\n",
      "Message to be send :  {'movieId': 500, 'title': 'Mrs. Doubtfire (1993)', 'genres': 'Comedy Drama', 'userId': 226, 'rating': 3.5}\n",
      "Message to be send :  {'movieId': 1028, 'title': 'Mary Poppins (1964)', 'genres': 'Children Comedy Fantasy Musical', 'userId': 398, 'rating': 5.0}\n",
      "Message to be send :  {'movieId': 1653, 'title': 'Gattaca (1997)', 'genres': 'Drama Sci-Fi Thriller', 'userId': 481, 'rating': 3.0}\n",
      "Message to be send :  {'movieId': 37739, 'title': 'Greatest Game Ever Played, The (2005)', 'genres': 'Drama', 'userId': 480, 'rating': 2.5}\n",
      "Message to be send :  {'movieId': 72641, 'title': 'Blind Side, The  (2009)', 'genres': 'Drama', 'userId': 460, 'rating': 3.5}\n",
      "Message to be send :  {'movieId': 1517, 'title': 'Austin Powers: International Man of Mystery (1997)', 'genres': 'Action Adventure Comedy', 'userId': 367, 'rating': 1.0}\n",
      "Message to be send :  {'movieId': 2918, 'title': \"Ferris Bueller's Day Off (1986)\", 'genres': 'Comedy', 'userId': 292, 'rating': 3.0}\n",
      "Message to be send :  {'movieId': 4878, 'title': 'Donnie Darko (2001)', 'genres': 'Drama Mystery Sci-Fi Thriller', 'userId': 219, 'rating': 3.5}\n",
      "Message to be send :  {'movieId': 515, 'title': 'Remains of the Day, The (1993)', 'genres': 'Drama Romance', 'userId': 606, 'rating': 3.5}\n",
      "Message to be send :  {'movieId': 1729, 'title': 'Jackie Brown (1997)', 'genres': 'Crime Drama Thriller', 'userId': 606, 'rating': 4.0}\n",
      "Message to be send :  {'movieId': 2686, 'title': 'Red Violin, The (Violon rouge, Le) (1998)', 'genres': 'Drama Mystery', 'userId': 23, 'rating': 4.0}\n",
      "Message to be send :  {'movieId': 762, 'title': 'Striptease (1996)', 'genres': 'Comedy Crime', 'userId': 428, 'rating': 1.5}\n",
      "Message to be send :  {'movieId': 1688, 'title': 'Anastasia (1997)', 'genres': 'Adventure Animation Children Drama Musical', 'userId': 474, 'rating': 3.5}\n",
      "Message to be send :  {'movieId': 135133, 'title': 'The Hunger Games: Mockingjay - Part 2 (2015)', 'genres': 'Adventure Sci-Fi', 'userId': 292, 'rating': 4.0}\n",
      "Message to be send :  {'movieId': 500, 'title': 'Mrs. Doubtfire (1993)', 'genres': 'Comedy Drama', 'userId': 292, 'rating': 4.0}\n",
      "Message to be send :  {'movieId': 59258, 'title': 'Baby Mama (2008)', 'genres': 'Comedy', 'userId': 563, 'rating': 2.0}\n",
      "Message to be send :  {'movieId': 3617, 'title': 'Road Trip (2000)', 'genres': 'Comedy', 'userId': 333, 'rating': 1.0}\n",
      "Message to be send :  {'movieId': 2880, 'title': 'Armour of God (Long xiong hu di) (1987)', 'genres': 'Action Adventure Comedy', 'userId': 453, 'rating': 4.0}\n",
      "Message to be send :  {'movieId': 2017, 'title': 'Babes in Toyland (1961)', 'genres': 'Children Fantasy Musical', 'userId': 554, 'rating': 4.0}\n",
      "Message to be send :  {'movieId': 1301, 'title': 'Forbidden Planet (1956)', 'genres': 'Drama Sci-Fi', 'userId': 514, 'rating': 3.5}\n",
      "Message to be send :  {'movieId': 5418, 'title': 'Bourne Identity, The (2002)', 'genres': 'Action Mystery Thriller', 'userId': 226, 'rating': 4.0}\n",
      "Message to be send :  {'movieId': 2722, 'title': 'Deep Blue Sea (1999)', 'genres': 'Action Horror Sci-Fi Thriller', 'userId': 555, 'rating': 2.0}\n",
      "Message to be send :  {'movieId': 31660, 'title': 'Steamboy (Suchîmubôi) (2004)', 'genres': 'Action Animation Drama Sci-Fi', 'userId': 599, 'rating': 3.0}\n",
      "Message to be send :  {'movieId': 55820, 'title': 'No Country for Old Men (2007)', 'genres': 'Crime Drama', 'userId': 426, 'rating': 2.5}\n",
      "Message to be send :  {'movieId': 225, 'title': 'Disclosure (1994)', 'genres': 'Drama Thriller', 'userId': 470, 'rating': 3.0}\n",
      "Message to be send :  {'movieId': 4025, 'title': 'Miss Congeniality (2000)', 'genres': 'Comedy Crime', 'userId': 596, 'rating': 3.5}\n",
      "Message to be send :  {'movieId': 6881, 'title': 'Pieces of April (2003)', 'genres': 'Comedy Drama', 'userId': 356, 'rating': 3.5}\n",
      "Message to be send :  {'movieId': 909, 'title': 'Apartment, The (1960)', 'genres': 'Comedy Drama Romance', 'userId': 415, 'rating': 4.5}\n",
      "Message to be send :  {'movieId': 2384, 'title': 'Babe: Pig in the City (1998)', 'genres': 'Adventure Children Drama', 'userId': 288, 'rating': 3.5}\n",
      "Message to be send :  {'movieId': 2115, 'title': 'Indiana Jones and the Temple of Doom (1984)', 'genres': 'Action Adventure Fantasy', 'userId': 64, 'rating': 3.0}\n",
      "Message to be send :  {'movieId': 3360, 'title': 'Hoosiers (a.k.a. Best Shot) (1986)', 'genres': 'Drama Romance', 'userId': 480, 'rating': 4.0}\n",
      "Message to be send :  {'movieId': 3671, 'title': 'Blazing Saddles (1974)', 'genres': 'Comedy Western', 'userId': 599, 'rating': 3.5}\n",
      "Message to be send :  {'movieId': 1947, 'title': 'West Side Story (1961)', 'genres': 'Drama Musical Romance', 'userId': 282, 'rating': 3.0}\n",
      "Message to be send :  {'movieId': 204, 'title': 'Under Siege 2: Dark Territory (1995)', 'genres': 'Action', 'userId': 592, 'rating': 3.0}\n",
      "Message to be send :  {'movieId': 4344, 'title': 'Swordfish (2001)', 'genres': 'Action Crime Drama', 'userId': 274, 'rating': 3.5}\n",
      "Message to be send :  {'movieId': 3430, 'title': 'Death Wish (1974)', 'genres': 'Action Crime Drama', 'userId': 51, 'rating': 4.0}\n",
      "Message to be send :  {'movieId': 2081, 'title': 'Little Mermaid, The (1989)', 'genres': 'Animation Children Comedy Musical Romance', 'userId': 396, 'rating': 3.0}\n",
      "Message to be send :  {'movieId': 996, 'title': 'Last Man Standing (1996)', 'genres': 'Action Crime Drama Thriller', 'userId': 492, 'rating': 3.0}\n",
      "Message to be send :  {'movieId': 84152, 'title': 'Limitless (2011)', 'genres': 'Sci-Fi Thriller', 'userId': 298, 'rating': 3.0}\n",
      "Message to be send :  {'movieId': 1214, 'title': 'Alien (1979)', 'genres': 'Horror Sci-Fi', 'userId': 493, 'rating': 2.0}\n",
      "Message to be send :  {'movieId': 4022, 'title': 'Cast Away (2000)', 'genres': 'Drama', 'userId': 504, 'rating': 4.0}\n"
     ]
    },
    {
     "name": "stdout",
     "output_type": "stream",
     "text": [
      "Message to be send :  {'movieId': 2028, 'title': 'Saving Private Ryan (1998)', 'genres': 'Action Drama War', 'userId': 562, 'rating': 3.0}\n",
      "Message to be send :  {'movieId': 1288, 'title': 'This Is Spinal Tap (1984)', 'genres': 'Comedy', 'userId': 169, 'rating': 4.0}\n",
      "Message to be send :  {'movieId': 40732, 'title': 'Descent, The (2005)', 'genres': 'Adventure Drama Horror Thriller', 'userId': 298, 'rating': 2.5}\n",
      "Message to be send :  {'movieId': 114662, 'title': 'American Sniper (2014)', 'genres': 'Action War', 'userId': 154, 'rating': 4.0}\n"
     ]
    },
    {
     "ename": "KeyboardInterrupt",
     "evalue": "",
     "output_type": "error",
     "traceback": [
      "\u001b[0;31m---------------------------------------------------------------------------\u001b[0m",
      "\u001b[0;31mKeyboardInterrupt\u001b[0m                         Traceback (most recent call last)",
      "\u001b[0;32m<ipython-input-6-cbd699d0cef6>\u001b[0m in \u001b[0;36m<module>\u001b[0;34m\u001b[0m\n\u001b[1;32m      3\u001b[0m     \u001b[0mkafka_producer_object\u001b[0m\u001b[0;34m.\u001b[0m\u001b[0msend\u001b[0m\u001b[0;34m(\u001b[0m\u001b[0mKAFKA_TOPIC_NAME_1\u001b[0m\u001b[0;34m,\u001b[0m\u001b[0mvalue\u001b[0m\u001b[0;34m=\u001b[0m\u001b[0mmovie\u001b[0m\u001b[0;34m)\u001b[0m\u001b[0;34m\u001b[0m\u001b[0;34m\u001b[0m\u001b[0m\n\u001b[1;32m      4\u001b[0m     \u001b[0mkafka_producer_object\u001b[0m\u001b[0;34m.\u001b[0m\u001b[0msend\u001b[0m\u001b[0;34m(\u001b[0m\u001b[0mKAFKA_TOPIC_NAME_2\u001b[0m\u001b[0;34m,\u001b[0m\u001b[0mvalue\u001b[0m\u001b[0;34m=\u001b[0m\u001b[0mmovie\u001b[0m\u001b[0;34m)\u001b[0m\u001b[0;34m\u001b[0m\u001b[0;34m\u001b[0m\u001b[0m\n\u001b[0;32m----> 5\u001b[0;31m     \u001b[0mtime\u001b[0m\u001b[0;34m.\u001b[0m\u001b[0msleep\u001b[0m\u001b[0;34m(\u001b[0m\u001b[0;36m10\u001b[0m\u001b[0;34m)\u001b[0m\u001b[0;34m\u001b[0m\u001b[0;34m\u001b[0m\u001b[0m\n\u001b[0m",
      "\u001b[0;31mKeyboardInterrupt\u001b[0m: "
     ]
    }
   ],
   "source": [
    "for movie in movie_list:\n",
    "    print(\"Message to be send : \", movie)\n",
    "    kafka_producer_object.send(KAFKA_TOPIC_NAME_1,value=movie)\n",
    "    kafka_producer_object.send(KAFKA_TOPIC_NAME_2,value=movie)\n",
    "    time.sleep(10)"
   ]
  },
  {
   "cell_type": "code",
   "execution_count": null,
   "metadata": {},
   "outputs": [],
   "source": []
  }
 ],
 "metadata": {
  "kernelspec": {
   "display_name": "Python 3",
   "language": "python",
   "name": "python3"
  },
  "language_info": {
   "codemirror_mode": {
    "name": "ipython",
    "version": 3
   },
   "file_extension": ".py",
   "mimetype": "text/x-python",
   "name": "python",
   "nbconvert_exporter": "python",
   "pygments_lexer": "ipython3",
   "version": "3.8.5"
  }
 },
 "nbformat": 4,
 "nbformat_minor": 4
}
